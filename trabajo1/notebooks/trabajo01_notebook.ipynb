{
 "cells": [
  {
   "cell_type": "code",
   "execution_count": 1,
   "id": "79baddc2",
   "metadata": {},
   "outputs": [
    {
     "data": {
      "application/vnd.jupyter.widget-view+json": {
       "model_id": "664146176d034b4f939b236adbe2490c",
       "version_major": 2,
       "version_minor": 0
      },
      "text/plain": [
       "VBox()"
      ]
     },
     "metadata": {},
     "output_type": "display_data"
    },
    {
     "name": "stdout",
     "output_type": "stream",
     "text": [
      "Starting Spark application\n"
     ]
    },
    {
     "data": {
      "text/html": [
       "<table>\n",
       "<tr><th>ID</th><th>YARN Application ID</th><th>Kind</th><th>State</th><th>Spark UI</th><th>Driver log</th><th>Current session?</th></tr><tr><td>1</td><td>application_1646524137094_0003</td><td>pyspark</td><td>idle</td><td><a target=\"_blank\" href=\"http://ip-172-31-28-48.ec2.internal:20888/proxy/application_1646524137094_0003/\" class=\"emr-proxy-link\" emr-resource=\"j-2ZC444RK3H2YB\n",
       "\" application-id=\"application_1646524137094_0003\">Link</a></td><td><a target=\"_blank\" href=\"http://ip-172-31-20-180.ec2.internal:8042/node/containerlogs/container_1646524137094_0003_01_000001/livy\" >Link</a></td><td>✔</td></tr></table>"
      ],
      "text/plain": [
       "<IPython.core.display.HTML object>"
      ]
     },
     "metadata": {},
     "output_type": "display_data"
    },
    {
     "data": {
      "application/vnd.jupyter.widget-view+json": {
       "model_id": "",
       "version_major": 2,
       "version_minor": 0
      },
      "text/plain": [
       "FloatProgress(value=0.0, bar_style='info', description='Progress:', layout=Layout(height='25px', width='50%'),…"
      ]
     },
     "metadata": {},
     "output_type": "display_data"
    },
    {
     "name": "stdout",
     "output_type": "stream",
     "text": [
      "SparkSession available as 'spark'.\n"
     ]
    },
    {
     "data": {
      "application/vnd.jupyter.widget-view+json": {
       "model_id": "",
       "version_major": 2,
       "version_minor": 0
      },
      "text/plain": [
       "FloatProgress(value=0.0, bar_style='info', description='Progress:', layout=Layout(height='25px', width='50%'),…"
      ]
     },
     "metadata": {},
     "output_type": "display_data"
    }
   ],
   "source": [
    "#Start Spark Session\n",
    "\n",
    "from pyspark.sql import SparkSession\n",
    "\n",
    "spark = SparkSession.builder.appName(\"ClimateDataset\").getOrCreate()\n",
    "sc = spark.sparkContext"
   ]
  },
  {
   "cell_type": "code",
   "execution_count": 2,
   "id": "f625ffe1",
   "metadata": {},
   "outputs": [
    {
     "data": {
      "application/vnd.jupyter.widget-view+json": {
       "model_id": "71e28b5a994a427d86558ee393b6c356",
       "version_major": 2,
       "version_minor": 0
      },
      "text/plain": [
       "VBox()"
      ]
     },
     "metadata": {},
     "output_type": "display_data"
    },
    {
     "data": {
      "application/vnd.jupyter.widget-view+json": {
       "model_id": "",
       "version_major": 2,
       "version_minor": 0
      },
      "text/plain": [
       "FloatProgress(value=0.0, bar_style='info', description='Progress:', layout=Layout(height='25px', width='50%'),…"
      ]
     },
     "metadata": {},
     "output_type": "display_data"
    }
   ],
   "source": [
    "#Read csv from S3 bucket\n",
    "\n",
    "filepath=\"s3://trabajo1-st1800-st18101/dataset/raw/GlobalLandTemperaturesByMajorCity.csv\"\n",
    "df = spark.read.csv(filepath,inferSchema=True,header=True)"
   ]
  },
  {
   "cell_type": "code",
   "execution_count": 3,
   "id": "edac0cb7",
   "metadata": {},
   "outputs": [
    {
     "data": {
      "application/vnd.jupyter.widget-view+json": {
       "model_id": "f03dc38ce74248cda9b14670a4f750c7",
       "version_major": 2,
       "version_minor": 0
      },
      "text/plain": [
       "VBox()"
      ]
     },
     "metadata": {},
     "output_type": "display_data"
    },
    {
     "data": {
      "application/vnd.jupyter.widget-view+json": {
       "model_id": "",
       "version_major": 2,
       "version_minor": 0
      },
      "text/plain": [
       "FloatProgress(value=0.0, bar_style='info', description='Progress:', layout=Layout(height='25px', width='50%'),…"
      ]
     },
     "metadata": {},
     "output_type": "display_data"
    },
    {
     "name": "stdout",
     "output_type": "stream",
     "text": [
      "['dt', 'AverageTemperature', 'AverageTemperatureUncertainty', 'City', 'Country', 'Latitude', 'Longitude']"
     ]
    }
   ],
   "source": [
    "#Print the dataframe columns\n",
    "df.columns"
   ]
  },
  {
   "cell_type": "code",
   "execution_count": 4,
   "id": "f89c3b39",
   "metadata": {},
   "outputs": [
    {
     "data": {
      "application/vnd.jupyter.widget-view+json": {
       "model_id": "5d7bea3142a8418a846bf8b390279f30",
       "version_major": 2,
       "version_minor": 0
      },
      "text/plain": [
       "VBox()"
      ]
     },
     "metadata": {},
     "output_type": "display_data"
    },
    {
     "data": {
      "application/vnd.jupyter.widget-view+json": {
       "model_id": "",
       "version_major": 2,
       "version_minor": 0
      },
      "text/plain": [
       "FloatProgress(value=0.0, bar_style='info', description='Progress:', layout=Layout(height='25px', width='50%'),…"
      ]
     },
     "metadata": {},
     "output_type": "display_data"
    },
    {
     "name": "stdout",
     "output_type": "stream",
     "text": [
      "239177"
     ]
    }
   ],
   "source": [
    "#Count the number of records in the dataframe\n",
    "df.count()"
   ]
  },
  {
   "cell_type": "code",
   "execution_count": 5,
   "id": "f04ca6e2",
   "metadata": {},
   "outputs": [
    {
     "data": {
      "application/vnd.jupyter.widget-view+json": {
       "model_id": "36cfc79a55ea4a80ac4e77c5aae5e036",
       "version_major": 2,
       "version_minor": 0
      },
      "text/plain": [
       "VBox()"
      ]
     },
     "metadata": {},
     "output_type": "display_data"
    },
    {
     "data": {
      "application/vnd.jupyter.widget-view+json": {
       "model_id": "",
       "version_major": 2,
       "version_minor": 0
      },
      "text/plain": [
       "FloatProgress(value=0.0, bar_style='info', description='Progress:', layout=Layout(height='25px', width='50%'),…"
      ]
     },
     "metadata": {},
     "output_type": "display_data"
    }
   ],
   "source": [
    "#Clean the dataframe, removing null values in the df_clean and adding another dataframe with those null values in df_nulls\n",
    "df_clean = df.filter(df.AverageTemperature.isNotNull())\n",
    "df_nulls = df.filter(df.AverageTemperature.isNull())"
   ]
  },
  {
   "cell_type": "code",
   "execution_count": 6,
   "id": "c29fa2ed",
   "metadata": {},
   "outputs": [
    {
     "data": {
      "application/vnd.jupyter.widget-view+json": {
       "model_id": "4ef652c40db44ab3a76ebfae5eff20b4",
       "version_major": 2,
       "version_minor": 0
      },
      "text/plain": [
       "VBox()"
      ]
     },
     "metadata": {},
     "output_type": "display_data"
    },
    {
     "data": {
      "application/vnd.jupyter.widget-view+json": {
       "model_id": "",
       "version_major": 2,
       "version_minor": 0
      },
      "text/plain": [
       "FloatProgress(value=0.0, bar_style='info', description='Progress:', layout=Layout(height='25px', width='50%'),…"
      ]
     },
     "metadata": {},
     "output_type": "display_data"
    },
    {
     "name": "stdout",
     "output_type": "stream",
     "text": [
      "228175"
     ]
    }
   ],
   "source": [
    "#Count the records of the clean dataframe\n",
    "df_clean.count()"
   ]
  },
  {
   "cell_type": "code",
   "execution_count": 7,
   "id": "548def78",
   "metadata": {},
   "outputs": [
    {
     "data": {
      "application/vnd.jupyter.widget-view+json": {
       "model_id": "c707555347c0491c82816a4b96e35fc3",
       "version_major": 2,
       "version_minor": 0
      },
      "text/plain": [
       "VBox()"
      ]
     },
     "metadata": {},
     "output_type": "display_data"
    },
    {
     "data": {
      "application/vnd.jupyter.widget-view+json": {
       "model_id": "",
       "version_major": 2,
       "version_minor": 0
      },
      "text/plain": [
       "FloatProgress(value=0.0, bar_style='info', description='Progress:', layout=Layout(height='25px', width='50%'),…"
      ]
     },
     "metadata": {},
     "output_type": "display_data"
    },
    {
     "name": "stdout",
     "output_type": "stream",
     "text": [
      "11002"
     ]
    }
   ],
   "source": [
    "#Count the records of the dataframe with only null values\n",
    "df_nulls.count()"
   ]
  },
  {
   "cell_type": "code",
   "execution_count": 8,
   "id": "5e5fed54",
   "metadata": {},
   "outputs": [
    {
     "data": {
      "application/vnd.jupyter.widget-view+json": {
       "model_id": "ec9d6cd0eb704845a4f665f34df30dc8",
       "version_major": 2,
       "version_minor": 0
      },
      "text/plain": [
       "VBox()"
      ]
     },
     "metadata": {},
     "output_type": "display_data"
    },
    {
     "data": {
      "application/vnd.jupyter.widget-view+json": {
       "model_id": "",
       "version_major": 2,
       "version_minor": 0
      },
      "text/plain": [
       "FloatProgress(value=0.0, bar_style='info', description='Progress:', layout=Layout(height='25px', width='50%'),…"
      ]
     },
     "metadata": {},
     "output_type": "display_data"
    },
    {
     "name": "stdout",
     "output_type": "stream",
     "text": [
      "+----------+------------------+-----------------------------+-------+-------------+--------+---------+\n",
      "|        dt|AverageTemperature|AverageTemperatureUncertainty|   City|      Country|Latitude|Longitude|\n",
      "+----------+------------------+-----------------------------+-------+-------------+--------+---------+\n",
      "|1849-01-01|            26.704|                        1.435|Abidjan|Côte D'Ivoire|   5.63N|    3.23W|\n",
      "|1849-02-01|            27.434|                        1.362|Abidjan|Côte D'Ivoire|   5.63N|    3.23W|\n",
      "|1849-03-01|            28.101|                        1.612|Abidjan|Côte D'Ivoire|   5.63N|    3.23W|\n",
      "|1849-04-01|             26.14|           1.3869999999999998|Abidjan|Côte D'Ivoire|   5.63N|    3.23W|\n",
      "|1849-05-01|            25.427|                          1.2|Abidjan|Côte D'Ivoire|   5.63N|    3.23W|\n",
      "|1849-06-01|            24.844|                        1.402|Abidjan|Côte D'Ivoire|   5.63N|    3.23W|\n",
      "|1849-07-01|24.058000000000003|                        1.254|Abidjan|Côte D'Ivoire|   5.63N|    3.23W|\n",
      "|1849-08-01|            23.576|                        1.265|Abidjan|Côte D'Ivoire|   5.63N|    3.23W|\n",
      "|1849-09-01|            23.662|                        1.226|Abidjan|Côte D'Ivoire|   5.63N|    3.23W|\n",
      "|1849-10-01|            25.263|                        1.175|Abidjan|Côte D'Ivoire|   5.63N|    3.23W|\n",
      "|1849-11-01|26.331999999999997|                        1.507|Abidjan|Côte D'Ivoire|   5.63N|    3.23W|\n",
      "|1849-12-01|             25.45|                        1.838|Abidjan|Côte D'Ivoire|   5.63N|    3.23W|\n",
      "|1850-01-01|            25.803|                        1.943|Abidjan|Côte D'Ivoire|   5.63N|    3.23W|\n",
      "|1850-02-01|             27.89|                         1.43|Abidjan|Côte D'Ivoire|   5.63N|    3.23W|\n",
      "|1850-03-01|            27.852|                        2.173|Abidjan|Côte D'Ivoire|   5.63N|    3.23W|\n",
      "|1850-04-01|26.546999999999997|                        1.662|Abidjan|Côte D'Ivoire|   5.63N|    3.23W|\n",
      "|1850-05-01|            25.379|                        1.355|Abidjan|Côte D'Ivoire|   5.63N|    3.23W|\n",
      "|1850-06-01|24.903000000000002|                        1.178|Abidjan|Côte D'Ivoire|   5.63N|    3.23W|\n",
      "|1850-07-01|24.040000000000006|                        1.301|Abidjan|Côte D'Ivoire|   5.63N|    3.23W|\n",
      "|1850-08-01|23.758000000000003|           1.2819999999999998|Abidjan|Côte D'Ivoire|   5.63N|    3.23W|\n",
      "+----------+------------------+-----------------------------+-------+-------------+--------+---------+\n",
      "only showing top 20 rows"
     ]
    }
   ],
   "source": [
    "#Show the records and the column names for the dataframe\n",
    "df_clean.show()"
   ]
  },
  {
   "cell_type": "code",
   "execution_count": 9,
   "id": "edd2a955",
   "metadata": {},
   "outputs": [
    {
     "data": {
      "application/vnd.jupyter.widget-view+json": {
       "model_id": "950b42814f0f437cae07b7e550632809",
       "version_major": 2,
       "version_minor": 0
      },
      "text/plain": [
       "VBox()"
      ]
     },
     "metadata": {},
     "output_type": "display_data"
    },
    {
     "data": {
      "application/vnd.jupyter.widget-view+json": {
       "model_id": "",
       "version_major": 2,
       "version_minor": 0
      },
      "text/plain": [
       "FloatProgress(value=0.0, bar_style='info', description='Progress:', layout=Layout(height='25px', width='50%'),…"
      ]
     },
     "metadata": {},
     "output_type": "display_data"
    },
    {
     "name": "stdout",
     "output_type": "stream",
     "text": [
      "+----------+------------------+-----------------------------+-------+-------------+--------+---------+\n",
      "|        dt|AverageTemperature|AverageTemperatureUncertainty|   City|      Country|Latitude|Longitude|\n",
      "+----------+------------------+-----------------------------+-------+-------------+--------+---------+\n",
      "|1849-01-01|              26.7|                         1.44|Abidjan|Côte D'Ivoire|   5.63N|    3.23W|\n",
      "|1849-02-01|             27.43|                         1.36|Abidjan|Côte D'Ivoire|   5.63N|    3.23W|\n",
      "|1849-03-01|              28.1|                         1.61|Abidjan|Côte D'Ivoire|   5.63N|    3.23W|\n",
      "|1849-04-01|             26.14|                         1.39|Abidjan|Côte D'Ivoire|   5.63N|    3.23W|\n",
      "|1849-05-01|             25.43|                          1.2|Abidjan|Côte D'Ivoire|   5.63N|    3.23W|\n",
      "|1849-06-01|             24.84|                          1.4|Abidjan|Côte D'Ivoire|   5.63N|    3.23W|\n",
      "|1849-07-01|             24.06|                         1.25|Abidjan|Côte D'Ivoire|   5.63N|    3.23W|\n",
      "|1849-08-01|             23.58|                         1.27|Abidjan|Côte D'Ivoire|   5.63N|    3.23W|\n",
      "|1849-09-01|             23.66|                         1.23|Abidjan|Côte D'Ivoire|   5.63N|    3.23W|\n",
      "|1849-10-01|             25.26|                         1.18|Abidjan|Côte D'Ivoire|   5.63N|    3.23W|\n",
      "|1849-11-01|             26.33|                         1.51|Abidjan|Côte D'Ivoire|   5.63N|    3.23W|\n",
      "|1849-12-01|             25.45|                         1.84|Abidjan|Côte D'Ivoire|   5.63N|    3.23W|\n",
      "|1850-01-01|              25.8|                         1.94|Abidjan|Côte D'Ivoire|   5.63N|    3.23W|\n",
      "|1850-02-01|             27.89|                         1.43|Abidjan|Côte D'Ivoire|   5.63N|    3.23W|\n",
      "|1850-03-01|             27.85|                         2.17|Abidjan|Côte D'Ivoire|   5.63N|    3.23W|\n",
      "|1850-04-01|             26.55|                         1.66|Abidjan|Côte D'Ivoire|   5.63N|    3.23W|\n",
      "|1850-05-01|             25.38|                         1.36|Abidjan|Côte D'Ivoire|   5.63N|    3.23W|\n",
      "|1850-06-01|              24.9|                         1.18|Abidjan|Côte D'Ivoire|   5.63N|    3.23W|\n",
      "|1850-07-01|             24.04|                          1.3|Abidjan|Côte D'Ivoire|   5.63N|    3.23W|\n",
      "|1850-08-01|             23.76|                         1.28|Abidjan|Côte D'Ivoire|   5.63N|    3.23W|\n",
      "+----------+------------------+-----------------------------+-------+-------------+--------+---------+\n",
      "only showing top 20 rows"
     ]
    }
   ],
   "source": [
    "from pyspark.sql.functions import avg, countDistinct, max\n",
    "from pyspark.sql.functions import round as roundspark\n",
    "\n",
    "df_clean = df_clean.withColumn(\"AverageTemperature\",roundspark(df_clean['AverageTemperature'],2))\n",
    "df_clean = df_clean.withColumn(\"AverageTemperatureUncertainty\",roundspark(df_clean['AverageTemperatureUncertainty'],2))\n",
    "    \n",
    "\n",
    "df_clean.show()"
   ]
  },
  {
   "cell_type": "code",
   "execution_count": 19,
   "id": "72e58273",
   "metadata": {},
   "outputs": [
    {
     "data": {
      "application/vnd.jupyter.widget-view+json": {
       "model_id": "8ba49d84b1ab4260ae0b5c99d89df02c",
       "version_major": 2,
       "version_minor": 0
      },
      "text/plain": [
       "VBox()"
      ]
     },
     "metadata": {},
     "output_type": "display_data"
    },
    {
     "data": {
      "application/vnd.jupyter.widget-view+json": {
       "model_id": "",
       "version_major": 2,
       "version_minor": 0
      },
      "text/plain": [
       "FloatProgress(value=0.0, bar_style='info', description='Progress:', layout=Layout(height='25px', width='50%'),…"
      ]
     },
     "metadata": {},
     "output_type": "display_data"
    },
    {
     "name": "stdout",
     "output_type": "stream",
     "text": [
      "+--------------------+-----+\n",
      "|                Name|Value|\n",
      "+--------------------+-----+\n",
      "|Average Temperatures|18.13|\n",
      "|    Number of Cities|  100|\n",
      "| Number of Countries|   49|\n",
      "| Highest Temperature|38.28|\n",
      "|   Average Temp Cali| 21.8|\n",
      "+--------------------+-----+"
     ]
    }
   ],
   "source": [
    "\n",
    "average_temperature_all = [\"Average Temperatures\",str(round(df_clean.select(avg(\"AverageTemperature\")).first()[0],2))]\n",
    "count_cities = [\"Number of Cities\",str(df_clean.select(countDistinct(\"City\")).first()[0])]\n",
    "count_country = [\"Number of Countries\",str(df_clean.select(countDistinct(\"Country\")).first()[0])]\n",
    "highest_temperature = [\"Highest Temperature\",str(df_clean.select(max(df_clean['AverageTemperature'])).first()[0])]\n",
    "average_temperature_cali = [\"Average Temp Cali\",str(round(df_clean.filter(df[\"City\"] == \"Cali\").agg(avg(\"AverageTemperature\")).first()[0],2))]\n",
    "\n",
    "columns = ['Name','Value']\n",
    "vals = [(average_temperature_all),(count_cities),(count_country),\n",
    "       (highest_temperature), (average_temperature_cali)]\n",
    "\n",
    "df_stats = spark.createDataFrame(vals, columns)\n",
    "\n",
    "df_stats.show()"
   ]
  },
  {
   "cell_type": "code",
   "execution_count": 20,
   "id": "8bfe52ab",
   "metadata": {},
   "outputs": [
    {
     "data": {
      "application/vnd.jupyter.widget-view+json": {
       "model_id": "b41325091f6d4c17ae724f8ec8f5ebee",
       "version_major": 2,
       "version_minor": 0
      },
      "text/plain": [
       "VBox()"
      ]
     },
     "metadata": {},
     "output_type": "display_data"
    },
    {
     "data": {
      "application/vnd.jupyter.widget-view+json": {
       "model_id": "",
       "version_major": 2,
       "version_minor": 0
      },
      "text/plain": [
       "FloatProgress(value=0.0, bar_style='info', description='Progress:', layout=Layout(height='25px', width='50%'),…"
      ]
     },
     "metadata": {},
     "output_type": "display_data"
    }
   ],
   "source": [
    "#Write the clean dataframe into S3 as a csv\n",
    "df_clean.write.csv(\"s3://trabajo1-st1800-st18101/dataset/trusted/\",mode=\"overwrite\", header=True)\n",
    "\n"
   ]
  },
  {
   "cell_type": "code",
   "execution_count": 21,
   "id": "389a025a",
   "metadata": {},
   "outputs": [
    {
     "data": {
      "application/vnd.jupyter.widget-view+json": {
       "model_id": "d6004d02c8db4f8f815144098c0d7d2d",
       "version_major": 2,
       "version_minor": 0
      },
      "text/plain": [
       "VBox()"
      ]
     },
     "metadata": {},
     "output_type": "display_data"
    },
    {
     "data": {
      "application/vnd.jupyter.widget-view+json": {
       "model_id": "",
       "version_major": 2,
       "version_minor": 0
      },
      "text/plain": [
       "FloatProgress(value=0.0, bar_style='info', description='Progress:', layout=Layout(height='25px', width='50%'),…"
      ]
     },
     "metadata": {},
     "output_type": "display_data"
    }
   ],
   "source": [
    "#Write the refined dataframe with some statistics\n",
    "df_stats.coalesce(1).write.format(\"com.databricks.spark.csv\").option(\"header\", \"true\").save(\"s3://trabajo1-st1800-st18101/dataset/refined/\")"
   ]
  }
 ],
 "metadata": {
  "kernelspec": {
   "display_name": "PySpark",
   "language": "",
   "name": "pysparkkernel"
  },
  "language_info": {
   "codemirror_mode": {
    "name": "python",
    "version": 3
   },
   "mimetype": "text/x-python",
   "name": "pyspark",
   "pygments_lexer": "python3"
  }
 },
 "nbformat": 4,
 "nbformat_minor": 5
}
